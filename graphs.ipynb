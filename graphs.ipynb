{
 "cells": [
  {
   "cell_type": "code",
   "execution_count": 1,
   "id": "2879b41d",
   "metadata": {},
   "outputs": [],
   "source": [
    "import pandas as pd\n",
    "import numpy as np"
   ]
  },
  {
   "cell_type": "code",
   "execution_count": 2,
   "id": "8b351973",
   "metadata": {},
   "outputs": [],
   "source": [
    "df = pd.read_csv(\"vk.csv\", delimiter=',')"
   ]
  },
  {
   "cell_type": "code",
   "execution_count": 3,
   "id": "978602c2",
   "metadata": {},
   "outputs": [
    {
     "data": {
      "text/html": [
       "<div>\n",
       "<style scoped>\n",
       "    .dataframe tbody tr th:only-of-type {\n",
       "        vertical-align: middle;\n",
       "    }\n",
       "\n",
       "    .dataframe tbody tr th {\n",
       "        vertical-align: top;\n",
       "    }\n",
       "\n",
       "    .dataframe thead th {\n",
       "        text-align: right;\n",
       "    }\n",
       "</style>\n",
       "<table border=\"1\" class=\"dataframe\">\n",
       "  <thead>\n",
       "    <tr style=\"text-align: right;\">\n",
       "      <th></th>\n",
       "      <th>u</th>\n",
       "      <th>v</th>\n",
       "      <th>t</th>\n",
       "      <th>h</th>\n",
       "    </tr>\n",
       "  </thead>\n",
       "  <tbody>\n",
       "    <tr>\n",
       "      <th>0</th>\n",
       "      <td>3248374</td>\n",
       "      <td>11431799</td>\n",
       "      <td>27</td>\n",
       "      <td>6.0</td>\n",
       "    </tr>\n",
       "    <tr>\n",
       "      <th>1</th>\n",
       "      <td>3429130</td>\n",
       "      <td>4795235</td>\n",
       "      <td>13</td>\n",
       "      <td>8.0</td>\n",
       "    </tr>\n",
       "    <tr>\n",
       "      <th>2</th>\n",
       "      <td>105512</td>\n",
       "      <td>8910840</td>\n",
       "      <td>74</td>\n",
       "      <td>2.0</td>\n",
       "    </tr>\n",
       "    <tr>\n",
       "      <th>3</th>\n",
       "      <td>7900466</td>\n",
       "      <td>9739979</td>\n",
       "      <td>36</td>\n",
       "      <td>9.0</td>\n",
       "    </tr>\n",
       "    <tr>\n",
       "      <th>4</th>\n",
       "      <td>7296485</td>\n",
       "      <td>9838285</td>\n",
       "      <td>52</td>\n",
       "      <td>2.0</td>\n",
       "    </tr>\n",
       "  </tbody>\n",
       "</table>\n",
       "</div>"
      ],
      "text/plain": [
       "         u         v   t    h\n",
       "0  3248374  11431799  27  6.0\n",
       "1  3429130   4795235  13  8.0\n",
       "2   105512   8910840  74  2.0\n",
       "3  7900466   9739979  36  9.0\n",
       "4  7296485   9838285  52  2.0"
      ]
     },
     "execution_count": 3,
     "metadata": {},
     "output_type": "execute_result"
    }
   ],
   "source": [
    "df.head()"
   ]
  },
  {
   "cell_type": "markdown",
   "id": "b11e1531",
   "metadata": {},
   "source": [
    "## Число вершин"
   ]
  },
  {
   "cell_type": "code",
   "execution_count": 4,
   "id": "7dbf8ecb",
   "metadata": {},
   "outputs": [
    {
     "name": "stdout",
     "output_type": "stream",
     "text": [
      "3103653\n"
     ]
    }
   ],
   "source": [
    "vertices = len(set([*df[\"u\"].unique(), *df[\"v\"].unique()]))\n",
    "print(vertices)"
   ]
  },
  {
   "cell_type": "markdown",
   "id": "c096fd77",
   "metadata": {},
   "source": [
    "## Число всех ребер"
   ]
  },
  {
   "cell_type": "code",
   "execution_count": 5,
   "id": "75080bc1",
   "metadata": {},
   "outputs": [
    {
     "name": "stdout",
     "output_type": "stream",
     "text": [
      "14847753\n"
     ]
    }
   ],
   "source": [
    "print(len(df[\"u\"]))"
   ]
  },
  {
   "cell_type": "code",
   "execution_count": 6,
   "id": "26cc928f",
   "metadata": {},
   "outputs": [
    {
     "name": "stdout",
     "output_type": "stream",
     "text": [
      "9632658840756\n"
     ]
    }
   ],
   "source": [
    "print(vertices*(vertices-1))"
   ]
  },
  {
   "cell_type": "markdown",
   "id": "12d4ff68",
   "metadata": {},
   "source": [
    "## Число уникальных ребер"
   ]
  },
  {
   "cell_type": "code",
   "execution_count": 7,
   "id": "a66a8b3f",
   "metadata": {},
   "outputs": [
    {
     "name": "stdout",
     "output_type": "stream",
     "text": [
      "3103730\n"
     ]
    }
   ],
   "source": [
    "unique_edges = len(np.unique(df[['u', 'v', 't', 'h']].values))\n",
    "# unique_edges = len(np.unique(df[['u', 'v']].values))\n",
    "print(unique_edges)"
   ]
  },
  {
   "cell_type": "markdown",
   "id": "535a9cb4",
   "metadata": {},
   "source": [
    "## Плотность графа\n",
    "Для неориентированного простого графа плотность графа с числом вершин V  определяется как отношение числа его рёбер E к числу рёбер полного графа"
   ]
  },
  {
   "cell_type": "code",
   "execution_count": 8,
   "id": "2871a1cc",
   "metadata": {},
   "outputs": [
    {
     "name": "stdout",
     "output_type": "stream",
     "text": [
      "Плотность: 6.444181303023101e-07\n"
     ]
    }
   ],
   "source": [
    "density = 2*unique_edges/((vertices*(vertices-1)))\n",
    "print(f'Плотность: {density}')"
   ]
  },
  {
   "cell_type": "markdown",
   "id": "4a40f06c",
   "metadata": {},
   "source": [
    "## Компоненты слабой связности"
   ]
  },
  {
   "cell_type": "code",
   "execution_count": 9,
   "id": "f8ca6caa",
   "metadata": {},
   "outputs": [],
   "source": [
    "class Node:\n",
    "    def __init__(self, key):\n",
    "        self.key = key\n",
    "        self.parent = self\n",
    "        self.size = 1\n",
    "\n",
    "class UnionFind(dict):\n",
    "    def find(self, key):\n",
    "        node = self.get(key, None)\n",
    "        if node is None:\n",
    "            node = self[key] = Node(key)\n",
    "        else:\n",
    "            while node.parent != node: \n",
    "                # walk up & perform path compression\n",
    "                node.parent, node = node.parent.parent, node.parent\n",
    "        return node\n",
    "\n",
    "    def union(self, key_a, key_b):\n",
    "        node_a = self.find(key_a)\n",
    "        node_b = self.find(key_b)\n",
    "        if node_a != node_b:  # disjoint? -> join!\n",
    "            if node_a.size < node_b.size:\n",
    "                node_a.parent = node_b\n",
    "                node_b.size += node_a.size\n",
    "            else:\n",
    "                node_b.parent = node_a\n",
    "                node_a.size += node_b.size"
   ]
  },
  {
   "cell_type": "code",
   "execution_count": 10,
   "id": "19b82715",
   "metadata": {},
   "outputs": [],
   "source": [
    "from collections import defaultdict\n",
    "\n",
    "def find_components(line_iterator):\n",
    "    forest = UnionFind()\n",
    "\n",
    "    for line in line_iterator:\n",
    "        forest.union(line[0], line[1])\n",
    "\n",
    "    result = defaultdict(list)\n",
    "    for key in forest.keys():\n",
    "        root = forest.find(key)\n",
    "        result[root.key].append(key)\n",
    "\n",
    "    return list(result.values())"
   ]
  },
  {
   "cell_type": "code",
   "execution_count": 11,
   "id": "a8c0f1e5",
   "metadata": {},
   "outputs": [],
   "source": [
    "graph_edges = [edge for edge in df[[\"u\",\"v\"]].values]"
   ]
  },
  {
   "cell_type": "code",
   "execution_count": 12,
   "id": "92ea9e8f",
   "metadata": {},
   "outputs": [],
   "source": [
    "graph_components = find_components(graph_edges)"
   ]
  },
  {
   "cell_type": "code",
   "execution_count": 14,
   "id": "86f9d274",
   "metadata": {},
   "outputs": [
    {
     "name": "stdout",
     "output_type": "stream",
     "text": [
      "Число компонент слабой связности: 28175\n",
      "Число вершин в максимальной компоненте связности: 3041820\n",
      "Доля вершин в максимальной по мощности компоненте слабой связности: 0.9800773475643056\n"
     ]
    }
   ],
   "source": [
    "print(f'Число компонент слабой связности: {len(graph_components)}')\n",
    "\n",
    "max_component = max(graph_components, key=lambda i: len(i))\n",
    "print(f'Число вершин в максимальной компоненте связности: {len(max_component)}')\n",
    "print(f'Доля вершин в максимальной по мощности компоненте слабой связности: {len(max_component)/vertices}')"
   ]
  },
  {
   "cell_type": "code",
   "execution_count": null,
   "id": "7762c519",
   "metadata": {},
   "outputs": [],
   "source": []
  }
 ],
 "metadata": {
  "kernelspec": {
   "display_name": "Python 3 (ipykernel)",
   "language": "python",
   "name": "python3"
  },
  "language_info": {
   "codemirror_mode": {
    "name": "ipython",
    "version": 3
   },
   "file_extension": ".py",
   "mimetype": "text/x-python",
   "name": "python",
   "nbconvert_exporter": "python",
   "pygments_lexer": "ipython3",
   "version": "3.10.2"
  }
 },
 "nbformat": 4,
 "nbformat_minor": 5
}
